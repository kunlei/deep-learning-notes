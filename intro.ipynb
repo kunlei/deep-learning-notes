{
  "cells": [
    {
      "cell_type": "markdown",
      "metadata": {},
      "source": [
        "# Introduction\n",
        "\n",
        "This is a book created from markdown and executable code.\n",
        "\n",
        "See @knuth84 for additional discussion of literate programming.\n"
      ],
      "id": "92ad166c"
    },
    {
      "cell_type": "code",
      "metadata": {},
      "source": [
        "print(\"hello world\")"
      ],
      "id": "71a4c3a2",
      "execution_count": null,
      "outputs": []
    }
  ],
  "metadata": {
    "kernelspec": {
      "display_name": "Python 3",
      "language": "python",
      "name": "python3"
    }
  },
  "nbformat": 4,
  "nbformat_minor": 5
}